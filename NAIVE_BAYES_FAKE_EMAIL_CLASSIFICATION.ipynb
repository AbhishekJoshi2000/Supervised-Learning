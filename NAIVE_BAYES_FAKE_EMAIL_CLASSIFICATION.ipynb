{
  "cells": [
    {
      "cell_type": "markdown",
      "metadata": {
        "id": "E5hVlwzj71hL"
      },
      "source": [
        "# Assignment 2\n",
        "## Naive Bayes Classifier"
      ]
    },
    {
      "cell_type": "markdown",
      "metadata": {
        "id": "zG1OoSnh71hN"
      },
      "source": [
        "# Naive Bayes-\n",
        "\n",
        "## Preprocessing-\n",
        "You have textual data that you cannot feed into the model. Therefore, you need to extract features from the text (email) and transform the data. There are techniques to do so, such as Bag of Words, n-grams, Tf-Idf, Word2Vec, CountVectorizer, and many others.\n",
        "\n",
        "## The Model-\n",
        "Test train split, using 80% for training, rest for testing. Next you will need to train NB model(Gausian) for classification.\n",
        "\n",
        "Create the model using training data, predict on the test data, and get the accuracy, plot the confusion matrix.\n",
        "\n",
        "## Metrics to report-\n",
        "You will need to report-\n",
        "1. Accuracy Score(metrics.accuracy_score)\n",
        "2. Confusion Matrix(metrics.confusion_matrix) plotted graphically(It needs to be in the final jupyter file which you submit)\n",
        "\n",
        "## Answer the following questions-\n",
        "Do not include too much information, it has to be consise. Just your student ids, and the necessary info.\n",
        "1. Briefly explain your approach, any preprocessing, explain the output, any visualisation for explanation, in same jupyter file. (3-4 paragraphs max)\n",
        "\n"
      ]
    },
    {
      "cell_type": "code",
      "execution_count": null,
      "metadata": {
        "id": "8f9hNDYs71hO"
      },
      "outputs": [],
      "source": [
        "import pandas as pd\n",
        "import numpy as np\n",
        "from sklearn.model_selection import train_test_split\n",
        "from sklearn import metrics\n",
        "from sklearn.naive_bayes import GaussianNB\n",
        "import nltk\n",
        "from nltk.corpus import stopwords\n",
        "from nltk.tokenize import word_tokenize\n",
        "from sklearn.feature_extraction.text import CountVectorizer\n",
        "from sklearn.feature_extraction.text import TfidfVectorizer\n",
        "from nltk.stem import PorterStemmer, WordNetLemmatizer\n",
        "from sklearn.metrics import precision_score\n",
        "from sklearn.metrics import recall_score\n",
        "\n",
        "from sklearn.metrics import confusion_matrix\n",
        "from sklearn.metrics import ConfusionMatrixDisplay\n",
        "from sklearn.metrics import classification_report\n",
        "import matplotlib.pyplot as plt\n",
        "import seaborn as sns\n",
        "\n",
        "# Any other relevant import for feature extraction"
      ]
    },
    {
      "cell_type": "code",
      "execution_count": null,
      "metadata": {
        "colab": {
          "base_uri": "https://localhost:8080/"
        },
        "id": "QnRYkk8r71hP",
        "outputId": "93f135fd-6d55-476f-c888-7359fa7c9979"
      },
      "outputs": [
        {
          "data": {
            "text/plain": [
              "email    1\n",
              "label    0\n",
              "dtype: int64"
            ]
          },
          "execution_count": 60,
          "metadata": {},
          "output_type": "execute_result"
        }
      ],
      "source": [
        "df = pd.read_csv(\"dataset_NB.csv\")\n",
        "df.isna().sum()"
      ]
    },
    {
      "cell_type": "code",
      "execution_count": null,
      "metadata": {
        "colab": {
          "base_uri": "https://localhost:8080/"
        },
        "id": "D2Gw1yiX71hP",
        "outputId": "06fb33c3-1e3d-4cd0-e733-de1a3230dbee"
      },
      "outputs": [
        {
          "name": "stdout",
          "output_type": "stream",
          "text": [
            "email    0\n",
            "label    0\n",
            "dtype: int64\n"
          ]
        }
      ],
      "source": [
        "# Preprocess\n",
        "df.dropna(subset=['email'], inplace=True)\n",
        "print(df.isna().sum())\n"
      ]
    },
    {
      "cell_type": "code",
      "execution_count": null,
      "metadata": {
        "id": "8khKvsIOVFcY",
        "outputId": "812fe29d-5515-41bf-bef0-d12873f67717"
      },
      "outputs": [
        {
          "name": "stdout",
          "output_type": "stream",
          "text": [
            "{'hasn', 'when', 'about', 'until', 'not', 'his', 'm', 'just', 'mightn', 'out', 'how', 'from', 'against', 'be', 'there', 'd', 'both', 'while', 'were', 'again', 'under', 'whom', \"you're\", 'o', 'shouldn', 'her', 'ma', 'i', 'before', 'who', 'aren', 'myself', 'ourselves', 'their', 'will', \"mightn't\", 'himself', 'down', 'doesn', 'for', 'here', 'as', 'such', 'after', 'yourself', 'each', \"don't\", 'own', \"couldn't\", 'itself', 'isn', 'with', 'so', 'weren', \"should've\", 're', 'yours', \"shan't\", 'your', 'below', 'any', 'hadn', 'herself', 'its', 'through', 'don', 'up', \"you'd\", 'no', 'or', 'should', 'into', 'hers', 'doing', 'we', 'you', \"didn't\", \"that'll\", 'been', 'why', 'wasn', 'them', 'all', 'ours', 'll', 'does', 'am', 'can', 'during', \"mustn't\", 'needn', \"won't\", 'between', 'are', 'being', 'couldn', 'didn', 'have', \"shouldn't\", 'an', 'that', 'him', 'these', 'which', 'our', 'by', 'yourselves', 'if', 'off', 'has', \"hasn't\", 'did', 'those', 'most', 't', 'more', 'my', 'other', 'me', 'was', 'they', \"wouldn't\", 'mustn', \"doesn't\", 'theirs', 'on', \"isn't\", 'because', 'nor', 'she', \"you've\", 'is', 'a', 'he', 'haven', 'y', \"haven't\", 'themselves', 'shan', 'now', 'the', \"it's\", 'where', 'of', 'at', 'further', 'very', 'same', \"wasn't\", 'than', 'having', 'and', 'above', 'over', 'won', 'in', 'wouldn', \"aren't\", 'to', \"weren't\", \"needn't\", 'ain', 's', 'some', 've', \"she's\", 'but', \"hadn't\", 'do', \"you'll\", 'had', 'it', 'this', 'few', 'only', 'too', 'once', 'what', 'then'}\n"
          ]
        }
      ],
      "source": [
        "#1.Stopwords Removal\n",
        "stop_words = set(stopwords.words('english'))\n",
        "print(stop_words)"
      ]
    },
    {
      "cell_type": "code",
      "execution_count": null,
      "metadata": {
        "id": "AFborqzzVFcY",
        "outputId": "bf8490aa-ce9a-4707-d69b-fe87cf1117d9"
      },
      "outputs": [
        {
          "name": "stdout",
          "output_type": "stream",
          "text": [
            "                                                  email  label\n",
            "0     date wed NUMBER aug NUMBER NUMBER NUMBER NUMBE...      0\n",
            "1     martin posted tassos papadopoulos greek sculpt...      0\n",
            "2     man threatens explosion moscow thursday august...      0\n",
            "3     klez virus die already prolific virus ever kle...      0\n",
            "4     adding cream spaghetti carbonara effect pasta ...      0\n",
            "...                                                 ...    ...\n",
            "2995  abc good morning america ranks NUMBER christma...      1\n",
            "2996  hyperlink hyperlink hyperlink let mortgage len...      1\n",
            "2997  thank shopping us gifts occasions free gift NU...      1\n",
            "2998  famous ebay marketing e course learn sell comp...      1\n",
            "2999  hello chinese traditional 子 件 NUMBER世 o最有效的宣 鞣...      1\n",
            "\n",
            "[2999 rows x 2 columns]\n"
          ]
        }
      ],
      "source": [
        "# Defining a list to store the processed data.\n",
        "processed_data = []\n",
        "# Iterating to each row in the DataFrame and remove stopwords from it.\n",
        "for index, row in df.iterrows():\n",
        "    text = row['email']\n",
        "    tokens = word_tokenize(text)\n",
        "    filtered_data = [token for token in tokens if token.lower() not in stop_words]\n",
        "    filtered_data = ' '.join(filtered_data)\n",
        "    processed_data.append(filtered_data)\n",
        "    df.at[index, 'email'] = filtered_data\n",
        "\n",
        "\n",
        "# Print the updated DataFrame\n",
        "print(df)\n",
        ""
      ]
    },
    {
      "cell_type": "markdown",
      "metadata": {
        "id": "MuapG9UoVFcZ"
      },
      "source": [
        "'iterrows()' method is used to iterate over each row in the DataFrame. The text in each row is processed using the same tokenization and filtering code as before, and the resulting filtered text is appended to the processed_text list. Finally, the program replaces the original text data in the DataFrame with the filtered text using the df.at[] method, and prints the updated DataFrame."
      ]
    },
    {
      "cell_type": "code",
      "execution_count": null,
      "metadata": {
        "id": "BcR5KNmTVFcZ",
        "outputId": "e3a75f04-bea0-45f0-b53e-20bef12f8e53"
      },
      "outputs": [
        {
          "name": "stdout",
          "output_type": "stream",
          "text": [
            "                                                  email  label\n",
            "0     date wed number aug number number number numbe...      0\n",
            "1     martin post tasso papadopoulo greek sculptor b...      0\n",
            "2     man threaten explos moscow thursday august num...      0\n",
            "3     klez viru die alreadi prolif viru ever klez co...      0\n",
            "4     ad cream spaghetti carbonara effect pasta make...      0\n",
            "...                                                 ...    ...\n",
            "2995  abc good morn america rank number christma toy...      1\n",
            "2996  hyperlink hyperlink hyperlink let mortgag lend...      1\n",
            "2997  thank shop u gift occas free gift number numbe...      1\n",
            "2998  famou ebay market e cours learn sell complet e...      1\n",
            "2999  hello chines tradit 子 件 number世 o最有效的宣 鞣绞剑 您想 ...      1\n",
            "\n",
            "[2999 rows x 2 columns]\n"
          ]
        }
      ],
      "source": [
        "#2.Stemming and Lemmatization\n",
        "# Creating a WordNet lemmatizer object\n",
        "lemmatizer = WordNetLemmatizer()\n",
        "\n",
        "# Creating a Porter stemmer object.\n",
        "stemmer = PorterStemmer()\n",
        "\n",
        "# Defining a list to store the stemmed text.\n",
        "stemmed_text = []\n",
        "\n",
        "# Iterating over each row in the DataFrame and performing stemming to it.\n",
        "for index, row in df.iterrows():\n",
        "    text = row['email']\n",
        "    tokens = word_tokenize(text)\n",
        "    lemmatized_data = [lemmatizer.lemmatize(token) for token in tokens]\n",
        "    stemmed_data = [stemmer.stem(token) for token in lemmatized_data]\n",
        "    stemmed_data.append(' '.join(stemmed_data))\n",
        "    df.at[index, 'email'] = ' '.join(stemmed_data)\n",
        "\n",
        "# Print the updated DataFrame\n",
        "print(df)\n"
      ]
    },
    {
      "cell_type": "code",
      "execution_count": null,
      "metadata": {
        "id": "zoSj7PlOVFca",
        "outputId": "235a584b-7f1b-47ae-80d6-c11ef1b26518"
      },
      "outputs": [
        {
          "name": "stdout",
          "output_type": "stream",
          "text": [
            "[[0.         0.         0.         ... 0.         0.         0.        ]\n",
            " [0.         0.         0.         ... 0.         0.         0.        ]\n",
            " [0.         0.         0.         ... 0.         0.         0.        ]\n",
            " ...\n",
            " [0.         0.         0.         ... 0.         0.         0.        ]\n",
            " [0.         0.         0.         ... 0.         0.         0.        ]\n",
            " [0.         0.         0.         ... 0.         0.         0.04663001]]\n"
          ]
        }
      ],
      "source": [
        "#3.Converting texual data\n",
        "#We have textual data that you cannot feed into the model.Hence, we used tf-idf method to extract features from the (email) and transform the data\n",
        "# Initialize TfidfVectorizer\n",
        "vectorizer = TfidfVectorizer()\n",
        "\n",
        "# Fit and transform the corpus\n",
        "tfidf_x = vectorizer.fit_transform(df['email'])\n",
        "\n",
        "# Print the matrix\n",
        "print(tfidf_x.toarray())\n"
      ]
    },
    {
      "cell_type": "code",
      "execution_count": null,
      "metadata": {
        "id": "oi0qjavz71hP"
      },
      "outputs": [],
      "source": [
        "# Naive Bayes\n",
        "# train_test_split\n",
        "x_train, x_test, y_train, y_test = train_test_split(x, df['label'], test_size=0.2, random_state=42)"
      ]
    },
    {
      "cell_type": "code",
      "execution_count": null,
      "metadata": {
        "colab": {
          "base_uri": "https://localhost:8080/",
          "height": 330
        },
        "id": "tRaAqyyD71hP",
        "outputId": "ab1d4bec-1377-4bf9-e257-a2788b5e3870"
      },
      "outputs": [
        {
          "name": "stdout",
          "output_type": "stream",
          "text": [
            "Accuracy: 97.0\n",
            "Precision: 0.970\n",
            "Recall: 0.970\n",
            "Confusion matrix:\n"
          ]
        },
        {
          "data": {
            "image/png": "[encoded data removed]",
            "text/plain": [
              "<Figure size 640x480 with 2 Axes>"
            ]
          },
          "metadata": {},
          "output_type": "display_data"
        }
      ],
      "source": [
        "# Metrics and plots\n",
        "clf = GaussianNB()\n",
        "\n",
        "# Train the model on the training set\n",
        "clf.fit(x_train.toarray(), y_train)\n",
        "y_pred = clf.predict(x_test.toarray())\n",
        "\n",
        "# Compute the accuracy score\n",
        "accuracy = metrics.accuracy_score(y_test, y_pred)*100\n",
        "print(\"Accuracy:\", accuracy)\n",
        "\n",
        "#Compute the precision\n",
        "precision = precision_score(y_test, y_pred, average='weighted')\n",
        "print(\"Precision: {:.3f}\".format(precision))\n",
        "\n",
        "# Calculate the recall of the classifier\n",
        "recall = recall_score(y_test, y_pred, average='weighted')\n",
        "print(\"Recall: {:.3f}\".format(recall))\n",
        "\n",
        "# Compute the confusion matrix\n",
        "cm = metrics.confusion_matrix(y_test, y_pred)\n",
        "print(\"Confusion matrix:\")\n",
        "\n",
        "# Plot the confusion matrix\n",
        "sns.heatmap(cm, annot=True, fmt='d')\n",
        "plt.title('Confusion Matrix')\n",
        "plt.xlabel('Predicted Label')\n",
        "plt.ylabel('True Label')\n",
        "plt.show()"
      ]
    },
    {
      "cell_type": "code",
      "execution_count": null,
      "metadata": {
        "id": "jfwljuI_71hQ",
        "outputId": "97774d37-a201-4109-e0e4-ac4a7a1c3d6f"
      },
      "outputs": [
        {
          "name": "stdout",
          "output_type": "stream",
          "text": [
            "  (0, 4873)\t4\n",
            "  (0, 23883)\t2\n",
            "  (0, 14329)\t84\n",
            "  (0, 1619)\t2\n",
            "  (0, 3642)\t2\n",
            "  (0, 8020)\t2\n",
            "  (0, 4731)\t2\n",
            "  (0, 14555)\t2\n",
            "  (0, 5023)\t4\n",
            "  (0, 4017)\t4\n",
            "  (0, 12909)\t2\n",
            "  (0, 9715)\t2\n",
            "  (0, 21894)\t2\n",
            "  (0, 23432)\t2\n",
            "  (0, 18419)\t2\n",
            "  (0, 6644)\t4\n",
            "  (0, 18386)\t2\n",
            "  (0, 11932)\t2\n",
            "  (0, 6769)\t2\n",
            "  (0, 21824)\t2\n",
            "  (0, 24144)\t2\n",
            "  (0, 7025)\t2\n",
            "  (0, 4972)\t2\n",
            "  (0, 12133)\t2\n",
            "  (0, 16626)\t18\n",
            "  :\t:\n",
            "  (2998, 11512)\t2\n",
            "  (2998, 2118)\t4\n",
            "  (2998, 23686)\t2\n",
            "  (2998, 12982)\t2\n",
            "  (2998, 25110)\t2\n",
            "  (2998, 25098)\t2\n",
            "  (2998, 25241)\t2\n",
            "  (2998, 25212)\t2\n",
            "  (2998, 25152)\t2\n",
            "  (2998, 25213)\t2\n",
            "  (2998, 25231)\t2\n",
            "  (2998, 25100)\t2\n",
            "  (2998, 25196)\t2\n",
            "  (2998, 13696)\t2\n",
            "  (2998, 8778)\t4\n",
            "  (2998, 25224)\t2\n",
            "  (2998, 25145)\t2\n",
            "  (2998, 25146)\t2\n",
            "  (2998, 15362)\t2\n",
            "  (2998, 24380)\t2\n",
            "  (2998, 25181)\t2\n",
            "  (2998, 25154)\t2\n",
            "  (2998, 17866)\t2\n",
            "  (2998, 12369)\t2\n",
            "  (2998, 24605)\t2\n"
          ]
        }
      ],
      "source": [
        "# Extra - Can you do better?\n",
        "vectorizer = CountVectorizer()\n",
        "x = vectorizer.fit_transform(df['email'])\n",
        "print(x)"
      ]
    },
    {
      "cell_type": "markdown",
      "metadata": {
        "id": "BZYw8tkaVFcb"
      },
      "source": [
        "A corpus of text is converted into a vector of term/token counts using this technique. Tokenizing the text into separate words or tokens and then calculating the frequency of each word in the text is how the CountVectorizer functions."
      ]
    },
    {
      "cell_type": "markdown",
      "metadata": {
        "id": "pX18u0C5VFcc"
      },
      "source": [
        "REPORT\n",
        "Basic Approach\n",
        "1.Data preprocessing: Cleaning and preparing the textual dataset is the initial stage in data preparation. To do this, the text data must be stemmed or lemmatized, as well as any undesirable characters, and stopwords.\n",
        "\n",
        "2.Feature extraction: The next stage is to extract features from the textual material that has been previously processed. We must transform the textual data in the tf-idf case into a numerical vector representation. To do this, the tf-idf weight for each term in the corpus is calculated.\n",
        "\n",
        "3.Vectorization: After the features have been extracted, the textual data needs to be vectorized. In order to do this, one must create a document-term matrix in which each row corresponds to a document and each column to a term. The tf-idf weight for each phrase in each document is contained in the matrix's cell values.\n",
        "\n",
        "4.Training a machine learning model: After vectorizing the textual data, we can train a model to classify the dataset.\n",
        "\n",
        "\n",
        "5.Evaluation of the model: Lastly, we assess how well the Naive Bayes model performed on a test dataset. We can utilize a variety of evaluation criteria,  recall, accuracy, and precision.\n",
        "\n",
        "Preprocessing\n",
        "Stopwords Removal:Stopwords are eliminated so that we can concentrate on the text's more important and illuminating words. This can aid in lowering data noise and enhancing the precision of text classification, and other text analysis applications. Additionally, eliminating stopwords can assist in shrinking the vocabulary, which can conserve computing and memory resources during analysis.\n",
        "\n",
        "Stemming and lemmatization: It reduces words to their base form, which can help to reduce the dimensionality of the data and improve the accuracy of text analysis.\n",
        "\n",
        "Explaination of Confusion Matrix:\n",
        "True positives (TP): These are the cases where the model predicted the positive class correctly, and the actual class was also positive. So here we can se 465 TP values\n",
        "\n",
        "False positives (FP): These are the cases where the model predicted the positive class, but the actual class was negative. We can see 5 FP values\n",
        "\n",
        "True negatives (TN): These are the cases where the model predicted the negative class correctly, and the actual class was also negative. We can see 13 TN values\n",
        "\n",
        "False negatives (FN): These are the cases where the model predicted the negative class, but the actual class was positive. We can see 87 FN values\n",
        "That means our model is quite accurate and have classified the dataset quite accurately."
      ]
    },
    {
      "cell_type": "markdown",
      "source": [
        "# **Reference**\n",
        "https://towardsdatascience.com/tf-idf-for-document-ranking-from-scratch-in-python-on-real-world-dataset-796d339a4089\n",
        "\n",
        "https://scikit-learn.org/stable/modules/generated/sklearn.feature_extraction.text.CountVectorizer.html\n",
        "\n",
        "https://towardsdatascience.com/basics-of-countvectorizer-e26677900f9c"
      ],
      "metadata": {
        "id": "ToObTffUWQ79"
      }
    }
  ],
  "metadata": {
    "colab": {
      "provenance": []
    },
    "kernelspec": {
      "display_name": "Python 3 (ipykernel)",
      "language": "python",
      "name": "python3"
    },
    "language_info": {
      "codemirror_mode": {
        "name": "ipython",
        "version": 3
      },
      "file_extension": ".py",
      "mimetype": "text/x-python",
      "name": "python",
      "nbconvert_exporter": "python",
      "pygments_lexer": "ipython3",
      "version": "3.9.13"
    },
    "vscode": {
      "interpreter": {
        "hash": "3405992a48275e07086f2eda395b3e07105689753999f083f9af1c7b0bb06650"
      }
    }
  },
  "nbformat": 4,
  "nbformat_minor": 0
}